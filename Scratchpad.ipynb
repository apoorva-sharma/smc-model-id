{
 "cells": [
  {
   "cell_type": "code",
   "execution_count": 80,
   "metadata": {},
   "outputs": [
    {
     "name": "stdout",
     "output_type": "stream",
     "text": [
      "The autoreload extension is already loaded. To reload it, use:\n",
      "  %reload_ext autoreload\n"
     ]
    }
   ],
   "source": [
    "%load_ext autoreload\n",
    "%autoreload 2\n",
    "\n",
    "import tensorflow as tf\n",
    "from model import *\n",
    "from generate_data import *\n",
    "\n",
    "import matplotlib.pyplot as plt"
   ]
  },
  {
   "cell_type": "code",
   "execution_count": 94,
   "metadata": {},
   "outputs": [],
   "source": [
    "tf.reset_default_graph()\n",
    "sess = tf.InteractiveSession()"
   ]
  },
  {
   "cell_type": "markdown",
   "metadata": {},
   "source": [
    "Define the dimensions and constants of the system we're working with:"
   ]
  },
  {
   "cell_type": "code",
   "execution_count": 82,
   "metadata": {},
   "outputs": [
    {
     "name": "stdout",
     "output_type": "stream",
     "text": [
      "\u001b[33mWARN: gym.spaces.Box autodetected dtype as <class 'numpy.float32'>. Please provide explicit dtype.\u001b[0m\n",
      "\u001b[33mWARN: gym.spaces.Box autodetected dtype as <class 'numpy.float32'>. Please provide explicit dtype.\u001b[0m\n"
     ]
    }
   ],
   "source": [
    "env = gym.make('Pendulum-v0')\n",
    "env.reset()\n",
    "dataGen = DataGenerator(env)\n",
    "param_vec = dataGen.generate_param_vec(n_heads)"
   ]
  },
  {
   "cell_type": "code",
   "execution_count": 95,
   "metadata": {},
   "outputs": [],
   "source": [
    "x_dim = dataGen.sample_state().size\n",
    "u_dim = dataGen.sample_action().size\n",
    "\n",
    "n_heads = 5\n",
    "layer_sizes = [32,32]\n",
    "\n",
    "lr = 2e-4\n",
    "beta1 = 0.9\n",
    "\n",
    "batch_size = 50\n",
    "N = 500"
   ]
  },
  {
   "cell_type": "markdown",
   "metadata": {},
   "source": [
    "Set up the tensorflow graph"
   ]
  },
  {
   "cell_type": "code",
   "execution_count": 96,
   "metadata": {},
   "outputs": [],
   "source": [
    "dyn_model = MultiHeadDynModel(x_dim, u_dim, layer_sizes, n_heads)\n",
    "dyn_model.build_model()"
   ]
  },
  {
   "cell_type": "markdown",
   "metadata": {},
   "source": [
    "Generate Data"
   ]
  },
  {
   "cell_type": "code",
   "execution_count": 97,
   "metadata": {},
   "outputs": [],
   "source": [
    "x_data = np.zeros([N*n_heads, x_dim])\n",
    "u_data = np.zeros([N*n_heads, u_dim])\n",
    "xp_data = np.zeros([N*n_heads, x_dim])\n",
    "ind_data = np.zeros([N*n_heads], dtype='int32')\n",
    "\n",
    "for i, (m,p,x,u,xp) in enumerate( dataGen.do_n_steps(N, param_vec) ):\n",
    "    x_data[i,:] = x\n",
    "    u_data[i,:] = u\n",
    "    xp_data[i,:] = xp\n",
    "    ind_data[i] = m"
   ]
  },
  {
   "cell_type": "markdown",
   "metadata": {},
   "source": [
    "Run and train the model on the data:"
   ]
  },
  {
   "cell_type": "code",
   "execution_count": 98,
   "metadata": {},
   "outputs": [],
   "source": [
    "dyn_model.init()"
   ]
  },
  {
   "cell_type": "code",
   "execution_count": 99,
   "metadata": {},
   "outputs": [
    {
     "name": "stdout",
     "output_type": "stream",
     "text": [
      "Final Loss:  0.019451\n"
     ]
    }
   ],
   "source": [
    "dyn_model.train(x_data, u_data, xp_data, ind_data)\n",
    "dyn_model.save()"
   ]
  },
  {
   "cell_type": "markdown",
   "metadata": {},
   "source": [
    "# Old toy data:"
   ]
  },
  {
   "cell_type": "markdown",
   "metadata": {},
   "source": [
    "Generate some testing data"
   ]
  },
  {
   "cell_type": "code",
   "execution_count": 43,
   "metadata": {},
   "outputs": [],
   "source": [
    "x_test = np.random.randn(200).reshape([100,2])\n",
    "u_test = np.zeros([100,1])\n",
    "y1_test = y1(x_test)\n",
    "y2_test = y2(x_test)"
   ]
  },
  {
   "cell_type": "code",
   "execution_count": 49,
   "metadata": {},
   "outputs": [],
   "source": [
    "x_pred_test = dyn_model.predict(x_test, u_test)"
   ]
  },
  {
   "cell_type": "code",
   "execution_count": 51,
   "metadata": {},
   "outputs": [
    {
     "data": {
      "image/png": "[encoded data removed]",
      "text/plain": [
       "<matplotlib.figure.Figure at 0x118326ef0>"
      ]
     },
     "metadata": {},
     "output_type": "display_data"
    }
   ],
   "source": [
    "plt.figure()\n",
    "plt.scatter(x_test[:,0], x_pred_test[0,:,0], label=\"pred 1\")\n",
    "plt.scatter(x_test[:,0], x_pred_test[1,:,0], label=\"pred 2\")\n",
    "plt.scatter(x_test[:,0], y1_test[:,0], label=\"true 1\")\n",
    "plt.scatter(x_test[:,0], y2_test[:,0], label=\"true 2\")\n",
    "plt.legend()\n",
    "plt.show()"
   ]
  },
  {
   "cell_type": "code",
   "execution_count": 15,
   "metadata": {},
   "outputs": [],
   "source": [
    "x_data = np.random.randn(200).reshape([100,2])\n",
    "u_data = np.zeros([100,1])\n",
    "y1 = lambda x_data: np.stack([np.cos(x_data[:,0]), np.sin(x_data[:,1])], axis=1)\n",
    "y2 = lambda x_data: np.stack([2*np.cos(x_data[:,0]), np.sin(x_data[:,1])], axis=1)\n",
    "# y1 = lambda x_data: x_data+1\n",
    "# y2 = lambda x_data: 2*x_data\n",
    "y1_data = y1(x_data) \n",
    "y2_data = y2(x_data)"
   ]
  },
  {
   "cell_type": "code",
   "execution_count": 16,
   "metadata": {},
   "outputs": [
    {
     "data": {
      "image/png": "[encoded data removed]",
      "text/plain": [
       "<matplotlib.figure.Figure at 0x11749c208>"
      ]
     },
     "metadata": {},
     "output_type": "display_data"
    }
   ],
   "source": [
    "plt.figure()\n",
    "plt.scatter(x_data[:,0], y1_data[:,0])\n",
    "plt.scatter(x_data[:,0], y2_data[:,0])\n",
    "plt.show()"
   ]
  },
  {
   "cell_type": "code",
   "execution_count": 31,
   "metadata": {},
   "outputs": [],
   "source": [
    "x_input = np.concatenate([x_data, x_data])\n",
    "u_input = np.zeros([200,1])\n",
    "xp_input = np.concatenate([y1_data, y2_data])\n",
    "ind_input = np.concatenate([np.zeros(100, dtype='int32'), np.ones(100,dtype='int32')]) #.reshape([200,1])\n",
    "N = 200"
   ]
  },
  {
   "cell_type": "code",
   "execution_count": 14,
   "metadata": {},
   "outputs": [],
   "source": []
  },
  {
   "cell_type": "code",
   "execution_count": null,
   "metadata": {},
   "outputs": [],
   "source": []
  }
 ],
 "metadata": {
  "kernelspec": {
   "display_name": "Python 3",
   "language": "python",
   "name": "python3"
  },
  "language_info": {
   "codemirror_mode": {
    "name": "ipython",
    "version": 3
   },
   "file_extension": ".py",
   "mimetype": "text/x-python",
   "name": "python",
   "nbconvert_exporter": "python",
   "pygments_lexer": "ipython3",
   "version": "3.6.4"
  }
 },
 "nbformat": 4,
 "nbformat_minor": 2
}
