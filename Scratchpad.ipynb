{
 "cells": [
  {
   "cell_type": "code",
   "execution_count": 151,
   "metadata": {},
   "outputs": [
    {
     "name": "stdout",
     "output_type": "stream",
     "text": [
      "The autoreload extension is already loaded. To reload it, use:\n",
      "  %reload_ext autoreload\n"
     ]
    }
   ],
   "source": [
    "%load_ext autoreload\n",
    "%autoreload 2\n",
    "\n",
    "import tensorflow as tf\n",
    "from model import *\n",
    "from generate_data import *\n",
    "from smc import *\n",
    "\n",
    "import matplotlib.pyplot as plt"
   ]
  },
  {
   "cell_type": "code",
   "execution_count": 115,
   "metadata": {},
   "outputs": [],
   "source": [
    "tf.reset_default_graph()\n",
    "sess = tf.InteractiveSession()"
   ]
  },
  {
   "cell_type": "markdown",
   "metadata": {},
   "source": [
    "Define the dimensions and constants of the system we're working with:"
   ]
  },
  {
   "cell_type": "code",
   "execution_count": 113,
   "metadata": {},
   "outputs": [
    {
     "name": "stdout",
     "output_type": "stream",
     "text": [
      "\u001b[33mWARN: gym.spaces.Box autodetected dtype as <class 'numpy.float32'>. Please provide explicit dtype.\u001b[0m\n",
      "\u001b[33mWARN: gym.spaces.Box autodetected dtype as <class 'numpy.float32'>. Please provide explicit dtype.\u001b[0m\n"
     ]
    }
   ],
   "source": [
    "n_heads = 5\n",
    "\n",
    "env = gym.make('Pendulum-v0')\n",
    "ob0 = env.reset()\n",
    "dataGen = DataGenerator(env)\n",
    "param_vec = dataGen.generate_param_vec(n_heads)"
   ]
  },
  {
   "cell_type": "code",
   "execution_count": 146,
   "metadata": {},
   "outputs": [
    {
     "data": {
      "text/plain": [
       "[0.5713512443149343,\n",
       " 1.4518835370296088,\n",
       " 1.2132747928714545,\n",
       " 1.4712082814587335,\n",
       " 0.5119095001979941]"
      ]
     },
     "execution_count": 146,
     "metadata": {},
     "output_type": "execute_result"
    }
   ],
   "source": [
    "param_vec"
   ]
  },
  {
   "cell_type": "code",
   "execution_count": 114,
   "metadata": {},
   "outputs": [],
   "source": [
    "x_dim = ob0.size\n",
    "u_dim = dataGen.sample_action().size\n",
    "\n",
    "layer_sizes = [32,32]\n",
    "\n",
    "lr = 2e-4\n",
    "beta1 = 0.9\n",
    "\n",
    "batch_size = 50\n",
    "N = 500"
   ]
  },
  {
   "cell_type": "code",
   "execution_count": 112,
   "metadata": {},
   "outputs": [
    {
     "data": {
      "text/plain": [
       "2"
      ]
     },
     "execution_count": 112,
     "metadata": {},
     "output_type": "execute_result"
    }
   ],
   "source": [
    "x_dim"
   ]
  },
  {
   "cell_type": "markdown",
   "metadata": {},
   "source": [
    "Set up the tensorflow graph"
   ]
  },
  {
   "cell_type": "code",
   "execution_count": 116,
   "metadata": {},
   "outputs": [],
   "source": [
    "dyn_model = MultiHeadDynModel(x_dim, u_dim, layer_sizes, n_heads)\n",
    "dyn_model.build_model()"
   ]
  },
  {
   "cell_type": "markdown",
   "metadata": {},
   "source": [
    "Generate Data"
   ]
  },
  {
   "cell_type": "code",
   "execution_count": 117,
   "metadata": {},
   "outputs": [],
   "source": [
    "x_data = np.zeros([N*n_heads, x_dim])\n",
    "u_data = np.zeros([N*n_heads, u_dim])\n",
    "xp_data = np.zeros([N*n_heads, x_dim])\n",
    "ind_data = np.zeros([N*n_heads], dtype='int32')\n",
    "\n",
    "for i, (m,p,x,u,xp) in enumerate( dataGen.do_n_steps(N, param_vec) ):\n",
    "    x_data[i,:] = x\n",
    "    u_data[i,:] = u\n",
    "    xp_data[i,:] = xp\n",
    "    ind_data[i] = m"
   ]
  },
  {
   "cell_type": "markdown",
   "metadata": {},
   "source": [
    "# Train\n",
    "Run and train the model on the data:"
   ]
  },
  {
   "cell_type": "code",
   "execution_count": 118,
   "metadata": {},
   "outputs": [],
   "source": [
    "dyn_model.init()"
   ]
  },
  {
   "cell_type": "code",
   "execution_count": 120,
   "metadata": {},
   "outputs": [
    {
     "name": "stdout",
     "output_type": "stream",
     "text": [
      "Final Loss:  0.0410677\n"
     ]
    }
   ],
   "source": [
    "dyn_model.train(x_data, u_data, xp_data, ind_data)\n",
    "dyn_model.save()"
   ]
  },
  {
   "cell_type": "markdown",
   "metadata": {},
   "source": [
    "# Test"
   ]
  },
  {
   "cell_type": "code",
   "execution_count": 167,
   "metadata": {},
   "outputs": [],
   "source": [
    "bf = BayesianFilter(param_vec,dyn_model)\n",
    "\n",
    "w_hist = np.zeros([50, n_heads])\n",
    "for j in range(50):\n",
    "    mu,cov = bf.step(x_data[j,:],u_data[j,:],xp_data[j,:])\n",
    "    w_hist[j,:] = bf.w"
   ]
  },
  {
   "cell_type": "code",
   "execution_count": 168,
   "metadata": {},
   "outputs": [
    {
     "name": "stdout",
     "output_type": "stream",
     "text": [
      "[[  4.96166865e-01   1.26134191e-02   2.21921484e-02   4.21293081e-03\n",
      "    4.64814637e-01]\n",
      " [  5.15744848e-01   2.30395765e-04   1.12080124e-03   7.89413532e-05\n",
      "    4.82825014e-01]\n",
      " [  5.19402055e-01   2.54711303e-04   1.20078118e-03   8.24867060e-05\n",
      "    4.79059966e-01]\n",
      " [  5.18761770e-01   4.50220715e-05   4.36888462e-04   2.03810679e-05\n",
      "    4.80735938e-01]\n",
      " [  5.27033996e-01   4.04277895e-07   2.27112870e-05   3.50313508e-07\n",
      "    4.72942538e-01]\n",
      " [  5.19291798e-01   3.79058642e-07   1.99027552e-05   3.07632901e-07\n",
      "    4.80687613e-01]\n",
      " [  5.43599565e-01   1.96470101e-07   1.10965466e-05   1.46549424e-07\n",
      "    4.56388996e-01]\n",
      " [  5.53482557e-01   6.98266850e-08   7.15645849e-06   6.41321394e-08\n",
      "    4.46510152e-01]\n",
      " [  5.68244347e-01   1.43280334e-08   2.73802991e-06   1.27739720e-08\n",
      "    4.31752888e-01]\n",
      " [  5.82070114e-01   1.07546102e-08   2.47396490e-06   1.01373465e-08\n",
      "    4.17927391e-01]\n",
      " [  5.77125961e-01   1.01121916e-08   2.18736615e-06   9.23915720e-09\n",
      "    4.22871832e-01]\n",
      " [  6.42550232e-01   1.14496888e-10   4.62606220e-08   3.52838280e-11\n",
      "    3.57449722e-01]\n",
      " [  6.92508016e-01   1.21978171e-12   1.43797252e-09   1.00486371e-12\n",
      "    3.07491982e-01]\n",
      " [  7.29710989e-01   2.74806159e-14   5.67571777e-11   1.03870517e-14\n",
      "    2.70289011e-01]\n",
      " [  7.19599399e-01   6.13101518e-15   1.99221604e-11   2.24773235e-15\n",
      "    2.80400601e-01]\n",
      " [  7.45787094e-01   2.13860178e-16   1.18358319e-12   2.40877421e-17\n",
      "    2.54212906e-01]\n",
      " [  7.43558824e-01   2.12313235e-16   1.14881853e-12   2.41779222e-17\n",
      "    2.56441176e-01]\n",
      " [  7.57831778e-01   4.46381182e-18   5.62491370e-14   8.54462063e-19\n",
      "    2.42168222e-01]\n",
      " [  7.50086425e-01   3.82612035e-19   8.25384773e-15   5.13284616e-20\n",
      "    2.49913575e-01]\n",
      " [  7.47096026e-01   2.77487868e-19   7.71180646e-15   4.74067827e-20\n",
      "    2.52903974e-01]\n",
      " [  7.46402375e-01   1.53570204e-19   4.46900324e-15   2.62392393e-20\n",
      "    2.53597625e-01]\n",
      " [  7.41353426e-01   9.21472726e-20   3.27397873e-15   1.54509161e-20\n",
      "    2.58646574e-01]\n",
      " [  7.49808431e-01   3.51639899e-21   1.30885389e-16   4.10784236e-22\n",
      "    2.50191569e-01]\n",
      " [  9.49301513e-01   4.61708304e-21   1.51456810e-16   5.58608422e-22\n",
      "    5.06984872e-02]\n",
      " [  9.52913705e-01   2.82570133e-22   2.77067460e-17   3.51693092e-23\n",
      "    4.70862953e-02]\n",
      " [  9.56952572e-01   6.27957748e-23   1.25659431e-17   6.37949996e-24\n",
      "    4.30474283e-02]\n",
      " [  9.55570597e-01   2.51392073e-23   6.79781622e-18   2.45269202e-24\n",
      "    4.44294031e-02]\n",
      " [  9.47458534e-01   3.94816896e-25   1.57381587e-19   6.13054788e-26\n",
      "    5.25414664e-02]\n",
      " [  9.82534066e-01   4.00865581e-25   1.51687095e-19   6.87823444e-26\n",
      "    1.74659343e-02]\n",
      " [  9.83642392e-01   1.79464440e-26   1.44716723e-20   2.91376534e-27\n",
      "    1.63576078e-02]\n",
      " [  9.84710213e-01   8.64408407e-27   1.04200579e-20   1.36849905e-27\n",
      "    1.52897867e-02]\n",
      " [  9.69962756e-01   5.62623866e-30   5.06200569e-24   4.84504250e-30\n",
      "    3.00372437e-02]\n",
      " [  9.74934963e-01   4.27808392e-32   1.72436951e-25   4.55571520e-32\n",
      "    2.50650369e-02]\n",
      " [  9.74938677e-01   1.80818870e-32   8.90816146e-26   2.25642254e-32\n",
      "    2.50613228e-02]\n",
      " [  9.73990175e-01   1.40704373e-32   7.59752675e-26   1.62632723e-32\n",
      "    2.60098247e-02]\n",
      " [  9.77550348e-01   3.56342123e-33   1.69067332e-26   3.48857252e-33\n",
      "    2.24496517e-02]\n",
      " [  9.79368849e-01   3.13671394e-35   1.79130943e-27   4.10802761e-35\n",
      "    2.06311507e-02]\n",
      " [  9.79696080e-01   2.48610483e-35   1.64670698e-27   3.31760260e-35\n",
      "    2.03039201e-02]\n",
      " [  9.80462988e-01   1.35763801e-35   8.29210667e-28   1.71497493e-35\n",
      "    1.95370124e-02]\n",
      " [  9.81169690e-01   1.79094453e-37   6.76972125e-29   1.12445496e-37\n",
      "    1.88303095e-02]\n",
      " [  9.81269632e-01   4.71152737e-38   3.19275598e-29   4.60955446e-38\n",
      "    1.87303675e-02]\n",
      " [  9.82056918e-01   3.27591527e-38   2.48058216e-29   3.25787663e-38\n",
      "    1.79430819e-02]\n",
      " [  9.82424350e-01   9.20140828e-40   1.58364374e-30   1.12810159e-39\n",
      "    1.75756499e-02]\n",
      " [  9.84139545e-01   5.74043603e-40   1.45988608e-30   7.30706857e-40\n",
      "    1.58604555e-02]\n",
      " [  9.85840185e-01   3.02653368e-41   1.27971791e-31   4.41070213e-41\n",
      "    1.41598154e-02]\n",
      " [  9.86540387e-01   3.85447973e-42   4.76032231e-32   5.90939325e-42\n",
      "    1.34596128e-02]\n",
      " [  9.86965821e-01   2.82669393e-43   9.84528286e-33   1.04951587e-42\n",
      "    1.30341794e-02]\n",
      " [  9.86438398e-01   1.72956568e-43   6.30672183e-33   6.44522657e-43\n",
      "    1.35616019e-02]\n",
      " [  9.86633865e-01   1.38299803e-43   4.54903874e-33   4.51515674e-43\n",
      "    1.33661353e-02]\n",
      " [  9.86514183e-01   1.37642134e-43   4.58689711e-33   4.48489768e-43\n",
      "    1.34858168e-02]]\n"
     ]
    }
   ],
   "source": [
    "print(w_hist)"
   ]
  },
  {
   "cell_type": "code",
   "execution_count": 171,
   "metadata": {},
   "outputs": [
    {
     "name": "stdout",
     "output_type": "stream",
     "text": [
      "[ 0.31758485  0.07070421  0.13351906  0.1557611   0.32793717]\n",
      "[ 0.3041802   0.02336938  0.11910866  0.07869534  0.48127504]\n",
      "[ 0.24587475  0.0125813   0.18364115  0.09091116  0.46937977]\n",
      "[ 0.27051779 -0.00148525  0.13466435  0.07904692  0.52287439]\n",
      "[ 0.43167588 -0.00364271  0.10046601  0.0239366   0.45347327]\n",
      "[ 0.4980421  -0.00600478  0.08283458  0.02747496  0.40496875]\n",
      "[ 0.57192831 -0.00765882  0.08177069  0.01879951  0.34094348]\n",
      "[ 0.65724443 -0.01412963  0.06542768  0.00403764  0.28900988]\n",
      "[ 0.67473298 -0.00635078  0.0249537   0.0032951   0.30692229]\n",
      "[ 0.67267504 -0.00726053  0.02491468  0.00269169  0.30996831]\n",
      "[ 0.66799043 -0.00642699  0.0273184  -0.00205963  0.31598174]\n",
      "[ 0.65836848 -0.00841141  0.01835307 -0.00444192  0.33917698]\n",
      "[ 0.60892176 -0.00730842  0.0253669  -0.00474816  0.37675136]\n",
      "[ 0.63013521 -0.00902688  0.02206556 -0.00444613  0.36417845]\n",
      "[ 0.6427055  -0.01159197  0.01611149 -0.00478927  0.3612647 ]\n",
      "[ 0.6559123  -0.01804365  0.01783164 -0.00665304  0.3531272 ]\n",
      "[ 0.67322695 -0.02679008  0.01809644 -0.00495841  0.3380022 ]\n",
      "[ 0.74767359 -0.02960745  0.02398173 -0.00695237  0.26584754]\n",
      "[ 0.75622651 -0.02666792  0.02258753 -0.01759658  0.26443219]\n",
      "[ 0.82374878 -0.01748435  0.02190844 -0.02862829  0.20202637]\n",
      "[ 0.89856815 -0.01516295  0.02260621 -0.03287437  0.1279195 ]\n",
      "[ 0.86135312 -0.02126168  0.03356047 -0.02923697  0.15777214]\n",
      "[ 0.91941551 -0.01999267  0.03658944 -0.02870067  0.1016151 ]\n",
      "[ 0.97399463 -0.01679904  0.03583863 -0.03552701  0.05209594]\n",
      "[ 0.9965329  -0.02145099  0.02686858 -0.03898947  0.03625377]\n",
      "[ 0.99586238 -0.02213458  0.03274967 -0.04057185  0.03143782]\n",
      "[ 0.99747603 -0.01585154  0.02035136 -0.04310487  0.0357323 ]\n",
      "[ 1.00259959 -0.01137715  0.00900594 -0.04686576  0.04709776]\n",
      "[ 1.00197945 -0.00573231  0.00598894 -0.04846037  0.04848872]\n",
      "[  9.99655458e-01  -2.22390731e-03  -1.38346609e-04  -5.04565478e-02\n",
      "   5.39714057e-02]\n",
      "[ 0.99551205  0.00559916 -0.01245646 -0.04709027  0.05877437]\n",
      "[ 1.00079962  0.01390645 -0.01599271 -0.05154913  0.06164822]\n",
      "[ 1.00562403  0.01868955 -0.02019048 -0.05266203  0.0594816 ]\n",
      "[ 1.00162126  0.01895182 -0.02173834 -0.0535079   0.06279478]\n",
      "[ 1.00617942  0.02332386 -0.02188928 -0.06022704  0.05992635]\n",
      "[ 1.0052927   0.02887953 -0.02705103 -0.06071975  0.06439916]\n",
      "[ 1.00216084  0.03018249 -0.03073488 -0.06027785  0.06092602]\n",
      "[ 0.99659274  0.03285526 -0.03127846 -0.05535531  0.06144908]\n",
      "[ 0.98948093  0.03210878 -0.02711255 -0.05236146  0.06206155]\n",
      "[ 0.98347195  0.03233845 -0.02494649 -0.05323901  0.06229754]\n",
      "[ 0.98538661  0.03066272 -0.02463412 -0.04968745  0.06073076]\n",
      "[ 0.98236603  0.02905206 -0.02329837 -0.04450794  0.05907512]\n",
      "[ 0.98340055  0.02904767 -0.02353015 -0.0452655   0.05591692]\n",
      "[ 0.98735838  0.02796453 -0.02633873 -0.04400658  0.05457113]\n",
      "[ 0.99263577  0.02297202 -0.02228043 -0.04068186  0.04358863]\n",
      "[ 1.00261693  0.01677757 -0.02147426 -0.03736256  0.03752421]\n",
      "[ 1.01060711  0.01362006 -0.02400945 -0.03699314  0.03373693]\n",
      "[ 1.01054468  0.01403899 -0.01652697 -0.03831349  0.03373663]\n",
      "[ 1.01181085  0.01616858 -0.02058322 -0.03952576  0.03557209]\n",
      "[ 1.01246449  0.02595625 -0.02775893 -0.04373504  0.03721533]\n"
     ]
    }
   ],
   "source": [
    "smc = SMCFilter(param_vec, dyn_model)\n",
    "\n",
    "mean_alpha_hist = np.zeros([50, n_heads])\n",
    "for j in range(50):\n",
    "    mu,cov = smc.step(x_data[j,:],u_data[j,:],xp_data[j,:])\n",
    "    mean_alpha_hist[j,:] = smc.mean_alpha\n",
    "    print(smc.mean_alpha)"
   ]
  },
  {
   "cell_type": "markdown",
   "metadata": {},
   "source": [
    "## Test filtering on newly generated data"
   ]
  },
  {
   "cell_type": "code",
   "execution_count": 176,
   "metadata": {},
   "outputs": [
    {
     "name": "stdout",
     "output_type": "stream",
     "text": [
      "Test mass is: 1.4205392130966215\n",
      "Training parameters: [0.5713512443149343, 1.4518835370296088, 1.2132747928714545, 1.4712082814587335, 0.5119095001979941]\n"
     ]
    }
   ],
   "source": [
    "param_vec_test = dataGen.generate_param_vec(1)\n",
    "N_test = 200\n",
    "x_test = np.zeros([N_test, x_dim])\n",
    "u_test = np.zeros([N_test, u_dim])\n",
    "xp_test = np.zeros([N_test, x_dim])\n",
    "ind_test = np.zeros([N_test], dtype='int32')\n",
    "\n",
    "for i, (m,p,x,u,xp) in enumerate( dataGen.do_n_steps(N_test, param_vec_test) ):\n",
    "    x_test[i,:] = x\n",
    "    u_test[i,:] = u\n",
    "    xp_test[i,:] = xp\n",
    "    ind_test[i] = m\n",
    "    \n",
    "print('Test mass is:', param_vec_test[0])\n",
    "print('Training parameters:', param_vec)"
   ]
  },
  {
   "cell_type": "code",
   "execution_count": 179,
   "metadata": {},
   "outputs": [
    {
     "name": "stdout",
     "output_type": "stream",
     "text": [
      "[ 0.25559458  0.2162892   0.23991698  0.18219251  0.09993788]\n",
      "[ 0.22222737  0.26269243  0.17363061  0.26387515  0.06887063]\n",
      "[ 0.18277046  0.31574065  0.21527336  0.25319437  0.02361848]\n",
      "[ 0.07166431  0.294594    0.2736654   0.34661367  0.00988979]\n",
      "[ 0.02901749  0.26611027  0.34129854  0.35397566  0.00400432]\n",
      "[ 0.03844213  0.29182518  0.29917541  0.36964922  0.00519459]\n",
      "[ 0.07485064  0.29914115  0.204359    0.42038321  0.00531588]\n",
      "[ 0.09061074  0.37026912  0.13433532  0.40183517  0.00499593]\n",
      "[ 0.08909711  0.39334633  0.11732144  0.39414773  0.00553109]\n",
      "[ 0.07787286  0.41371515  0.07192492  0.42651482  0.0110755 ]\n",
      "[ 0.02593886  0.36697851  0.13655067  0.4570585   0.01405337]\n",
      "[ 0.03285892  0.27565093  0.16151161  0.51424446  0.01341254]\n",
      "[ 0.05854487  0.23525186  0.13137521  0.557798    0.01431112]\n",
      "[ 0.03654314  0.25744731  0.1264025   0.56719157  0.01339643]\n",
      "[ 0.03881605  0.21507681  0.19582944  0.53460491  0.01324986]\n",
      "[ 0.03140906  0.24635669  0.13155195  0.56678305  0.0167058 ]\n",
      "[ 0.0169487   0.20193025  0.13415844  0.62647544  0.01587293]\n",
      "[ 0.01399478  0.23028999  0.17395998  0.55933169  0.0163619 ]\n",
      "[ 0.01658661  0.29195672  0.10405798  0.56969714  0.01150362]\n",
      "[ 0.01682917  0.33404521  0.09388947  0.5433086   0.00866459]\n",
      "[ 0.02007899  0.31697851  0.12490775  0.52736526  0.01241301]\n",
      "[ 0.02260238  0.2999697   0.08489373  0.5894889   0.00555242]\n",
      "[ 0.01994747  0.33287521  0.11396828  0.53041602  0.00542094]\n",
      "[ 0.02622165  0.32950805  0.12171775  0.52936031 -0.00148891]\n",
      "[ 0.02801135  0.39667893  0.09182945  0.49898376 -0.00873384]\n",
      "[ 0.02668045  0.37653669  0.08765653  0.52079515 -0.00716571]\n",
      "[ 0.0280125   0.28538906  0.12320064  0.56578706  0.00119205]\n",
      "[ 0.02782428  0.23942722  0.14696813  0.58057049  0.00472424]\n",
      "[  2.37299983e-02   2.42480693e-01   2.05319256e-01   5.25830685e-01\n",
      "   1.31822338e-04]\n",
      "[ 0.02519333  0.27952281  0.24170733  0.4399112  -0.00376853]\n",
      "[ 0.02304823  0.29347705  0.25632387  0.41993487 -0.00903541]\n",
      "[ 0.02958497  0.29503054  0.37122324  0.30334081 -0.00817736]\n",
      "[ 0.03381876  0.26227796  0.41782697  0.28375761 -0.00457661]\n",
      "[ 0.0268073   0.33180262  0.32614959  0.32430577 -0.01287664]\n",
      "[ 0.02396201  0.28976615  0.339566    0.35303782 -0.01015957]\n",
      "[ 0.02950173  0.25470973  0.41527348  0.31157106 -0.01470567]\n",
      "[ 0.03593286  0.21044743  0.37029867  0.39245675 -0.01448419]\n",
      "[ 0.04057003  0.24811817  0.33704758  0.38966196 -0.02315191]\n",
      "[ 0.04243019  0.18807322  0.31559393  0.46969093 -0.01914227]\n",
      "[ 0.04330049  0.22788362  0.29674195  0.45128162 -0.02127248]\n",
      "[ 0.03018816  0.27013396  0.27332517  0.45509549 -0.02486041]\n",
      "[ 0.02217154  0.27703365  0.37857196  0.34929219 -0.02214834]\n",
      "[ 0.0273743   0.33836312  0.34266388  0.32061313 -0.02679803]\n",
      "[ 0.03318379  0.35013886  0.28283162  0.36624985 -0.02976965]\n",
      "[ 0.02940853  0.32576215  0.33021823  0.34433055 -0.02369467]\n",
      "[ 0.03384487  0.27199592  0.27374914  0.45697266 -0.02925358]\n",
      "[ 0.04152306  0.28930887  0.22725469  0.48603942 -0.03388858]\n",
      "[ 0.04610627  0.31446787  0.21702133  0.46292016 -0.03472624]\n",
      "[ 0.0450534   0.32247002  0.31765829  0.3327662  -0.01652286]\n",
      "[ 0.04495162  0.28297352  0.32638855  0.3712996  -0.02411188]\n"
     ]
    }
   ],
   "source": [
    "smc = SMCFilter(param_vec, dyn_model)\n",
    "\n",
    "mean_alpha_hist = np.zeros([50, n_heads])\n",
    "for j in range(50):\n",
    "    mu,cov = smc.step(x_test[j,:],u_test[j,:],xp_test[j,:])\n",
    "    mean_alpha_hist[j,:] = smc.mean_alpha\n",
    "    print(smc.mean_alpha)"
   ]
  },
  {
   "cell_type": "markdown",
   "metadata": {},
   "source": [
    "# Old toy data:"
   ]
  },
  {
   "cell_type": "markdown",
   "metadata": {},
   "source": [
    "Generate some testing data"
   ]
  },
  {
   "cell_type": "code",
   "execution_count": 43,
   "metadata": {},
   "outputs": [],
   "source": [
    "x_test = np.random.randn(200).reshape([100,2])\n",
    "u_test = np.zeros([100,1])\n",
    "y1_test = y1(x_test)\n",
    "y2_test = y2(x_test)"
   ]
  },
  {
   "cell_type": "code",
   "execution_count": 49,
   "metadata": {},
   "outputs": [],
   "source": [
    "x_pred_test = dyn_model.predict(x_test, u_test)"
   ]
  },
  {
   "cell_type": "code",
   "execution_count": 51,
   "metadata": {},
   "outputs": [
    {
     "data": {
      "image/png": "[encoded data removed]",
      "text/plain": [
       "<matplotlib.figure.Figure at 0x118326ef0>"
      ]
     },
     "metadata": {},
     "output_type": "display_data"
    }
   ],
   "source": [
    "plt.figure()\n",
    "plt.scatter(x_test[:,0], x_pred_test[0,:,0], label=\"pred 1\")\n",
    "plt.scatter(x_test[:,0], x_pred_test[1,:,0], label=\"pred 2\")\n",
    "plt.scatter(x_test[:,0], y1_test[:,0], label=\"true 1\")\n",
    "plt.scatter(x_test[:,0], y2_test[:,0], label=\"true 2\")\n",
    "plt.legend()\n",
    "plt.show()"
   ]
  },
  {
   "cell_type": "code",
   "execution_count": 15,
   "metadata": {},
   "outputs": [],
   "source": [
    "x_data = np.random.randn(200).reshape([100,2])\n",
    "u_data = np.zeros([100,1])\n",
    "y1 = lambda x_data: np.stack([np.cos(x_data[:,0]), np.sin(x_data[:,1])], axis=1)\n",
    "y2 = lambda x_data: np.stack([2*np.cos(x_data[:,0]), np.sin(x_data[:,1])], axis=1)\n",
    "# y1 = lambda x_data: x_data+1\n",
    "# y2 = lambda x_data: 2*x_data\n",
    "y1_data = y1(x_data) \n",
    "y2_data = y2(x_data)"
   ]
  },
  {
   "cell_type": "code",
   "execution_count": 16,
   "metadata": {},
   "outputs": [
    {
     "data": {
      "image/png": "[encoded data removed]",
      "text/plain": [
       "<matplotlib.figure.Figure at 0x11749c208>"
      ]
     },
     "metadata": {},
     "output_type": "display_data"
    }
   ],
   "source": [
    "plt.figure()\n",
    "plt.scatter(x_data[:,0], y1_data[:,0])\n",
    "plt.scatter(x_data[:,0], y2_data[:,0])\n",
    "plt.show()"
   ]
  },
  {
   "cell_type": "code",
   "execution_count": 31,
   "metadata": {},
   "outputs": [],
   "source": [
    "x_input = np.concatenate([x_data, x_data])\n",
    "u_input = np.zeros([200,1])\n",
    "xp_input = np.concatenate([y1_data, y2_data])\n",
    "ind_input = np.concatenate([np.zeros(100, dtype='int32'), np.ones(100,dtype='int32')]) #.reshape([200,1])\n",
    "N = 200"
   ]
  },
  {
   "cell_type": "code",
   "execution_count": 14,
   "metadata": {},
   "outputs": [],
   "source": []
  },
  {
   "cell_type": "code",
   "execution_count": null,
   "metadata": {},
   "outputs": [],
   "source": []
  }
 ],
 "metadata": {
  "kernelspec": {
   "display_name": "Python 3",
   "language": "python",
   "name": "python3"
  },
  "language_info": {
   "codemirror_mode": {
    "name": "ipython",
    "version": 3
   },
   "file_extension": ".py",
   "mimetype": "text/x-python",
   "name": "python",
   "nbconvert_exporter": "python",
   "pygments_lexer": "ipython3",
   "version": "3.6.4"
  }
 },
 "nbformat": 4,
 "nbformat_minor": 2
}
